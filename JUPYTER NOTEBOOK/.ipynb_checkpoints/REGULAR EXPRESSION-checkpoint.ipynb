{
 "cells": [
  {
   "cell_type": "raw",
   "metadata": {},
   "source": [
    "IF U WANT TO BE NUMBER ONE SOFTWARE ENGINEER IN YOUR FILED YOU HAVE TO DO THESE THINGS:\n",
    "CTRL F , CTRL C ,CTRL V  ---- THIS IS THE MANTRA FOR EXCEL IN THIS FIELD"
   ]
  },
  {
   "cell_type": "markdown",
   "metadata": {},
   "source": [
    "# REGULAR EXPRESSION\n"
   ]
  },
  {
   "cell_type": "markdown",
   "metadata": {},
   "source": [
    "# it is used for the pattern matching....                                                            \n",
    "if we want to represent a group of strings according to particular pattern then we should fo for re             \n",
    "it can be email id ,mobile number, name , finding a template in source code\n"
   ]
  },
  {
   "cell_type": "raw",
   "metadata": {},
   "source": [
    "for example ---> u are filling a form in which u have to fill your details like name,email,mobile number,address\n",
    "suppose u fill your email address like abc#!$gmail.com --- it will give you a error and say enter again your email addresss bcoz it is not right..\n",
    "only pattern matters ... the pattern you have give so it check accn to that pattern"
   ]
  },
  {
   "cell_type": "raw",
   "metadata": {},
   "source": [
    "MAIN APPLICATIONS OF REGULAR EXPRESSION:\n",
    "1---> validations (like in a form )\n",
    "2---> compiler design\n",
    "3--->\n",
    "4---->"
   ]
  },
  {
   "cell_type": "code",
   "execution_count": 2,
   "metadata": {},
   "outputs": [],
   "source": [
    "import re"
   ]
  },
  {
   "cell_type": "raw",
   "metadata": {},
   "source": [
    "shortcut character sets                                         REPRESENTS\n",
    "\n",
    "\\d                                                               number from 0 to 9\n",
    "\\D                                                               any character except from numbers\n",
    "\\w                                                               letter,numeric,underscore charcter\n",
    "\\W                                                                any character except letter,number,underscore character\n",
    "\\s                                                               any space,tab,new line special character\n",
    "\\S                                                                any character that is not a space,tab or a newline"
   ]
  },
  {
   "cell_type": "code",
   "execution_count": 11,
   "metadata": {},
   "outputs": [
    {
     "name": "stdout",
     "output_type": "stream",
     "text": [
      "9311520820\n"
     ]
    }
   ],
   "source": [
    "s=\"there is a mobile number in 9311520820 and 9953506099\"\n",
    "\n",
    "pattern=re.compile(r'\\d\\d\\d\\d\\d\\d\\d\\d\\d\\d')  #pattern is a variable here  #/d is denoting here numeric value 0 to 9\n",
    "mo=pattern.search(s)\n",
    "print(mo.group())"
   ]
  },
  {
   "cell_type": "code",
   "execution_count": 14,
   "metadata": {},
   "outputs": [
    {
     "name": "stdout",
     "output_type": "stream",
     "text": [
      "['9311520820', '9953506099']\n"
     ]
    }
   ],
   "source": [
    "mo=pattern.findall(s)   ## to print more than one \n",
    "print(mo)"
   ]
  },
  {
   "cell_type": "code",
   "execution_count": null,
   "metadata": {},
   "outputs": [
    {
     "name": "stdout",
     "output_type": "stream",
     "text": [
      " ajays@gmail.co.uk\n",
      " abhayrana286@gmail.com\n",
      " asd@gmail.co.in\n"
     ]
    }
   ],
   "source": [
    "# if the email in the form of .com ,.in ,.co.in ,co.uk\n",
    "def get_mail(s):\n",
    "    email_id=re.findall(r\"(\\D\\w+@\\w+)(.com|.co.in|.co.uk)\",s)\n",
    "    if email_id:\n",
    "        for e in range(len(email_id)):\n",
    "            print(\"\".join(email_id[e]))\n",
    "    else:\n",
    "        print(\"there is no email id in this\")\n",
    "s=\"sajitsingh@saa.coos and  ajays@gmail.co.uk  and  abhayrana286@gmail.com and asd@gmail.co.in\"    \n",
    "get_mail(s)"
   ]
  },
  {
   "cell_type": "code",
   "execution_count": null,
   "metadata": {},
   "outputs": [],
   "source": [
    "\n",
    "    "
   ]
  },
  {
   "cell_type": "code",
   "execution_count": null,
   "metadata": {},
   "outputs": [],
   "source": [
    "s=\"this is my personal number +919311520820 and my office number is +679311520420\"\n",
    "mo=re.findall(r\"(\\+\\d\\d)(\\d\\d\\d\\d\\d\\d\\d\\d\\d\\d)\",s)   #u can see here we have not to write re.compile bcoz it is not necessary\n",
    "print(mo)\n",
    "for e in mo:\n",
    "    print(e)\n",
    "print(\"mobile number is ---\",mo.group(2))"
   ]
  },
  {
   "cell_type": "code",
   "execution_count": 55,
   "metadata": {},
   "outputs": [
    {
     "name": "stdout",
     "output_type": "stream",
     "text": [
      " abhayrana286@gmail.com\n"
     ]
    }
   ],
   "source": [
    "#make  a regex function for which checking the email address enter by the user\n",
    "\n",
    "def get_mail(s):\n",
    "    email_id=re.search(r\"\\D\\w+@\\w+\\.\\w+\",s)\n",
    "    if email_id:\n",
    "        print(email_id.group())\n",
    "    else:\n",
    "        print(\"there is no email id in this\")\n",
    "s=\"hello there is my email address  abhayrana286@gmail.com \"    \n",
    "get_mail(s)"
   ]
  },
  {
   "cell_type": "code",
   "execution_count": 57,
   "metadata": {},
   "outputs": [
    {
     "name": "stdout",
     "output_type": "stream",
     "text": [
      " ajays@gmail.co.uk\n",
      " abhayrana286@gmail.com\n",
      " asd@gmail.co.in\n",
      " 111abhayrana286@gmail.com\n"
     ]
    }
   ],
   "source": [
    "# if the email in the form of .com ,.in ,.co.in ,co.uk\n",
    "def get_mail(s):\n",
    "    email_id=re.findall(r\"(\\D\\w+@\\w+)(\\.com|\\.co.in|\\.co.uk)\",s)\n",
    "    if email_id:\n",
    "        for e in range(len(email_id)):\n",
    "            print(\"\".join(email_id[e]))\n",
    "    else:\n",
    "        print(\"there is no email id in this\")\n",
    "s=\"sajitsingh@saa.coos and  ajays@gmail.co.uk  and  abhayrana286@gmail.com and asd@gmail.co.in and 111abhayrana286@gmail.com\"    \n",
    "get_mail(s)"
   ]
  },
  {
   "cell_type": "code",
   "execution_count": 20,
   "metadata": {},
   "outputs": [
    {
     "name": "stdout",
     "output_type": "stream",
     "text": [
      "['Ironman', 'Hulk', 'Ironman']\n"
     ]
    }
   ],
   "source": [
    "def find_marvel(s):\n",
    "    findmarvel=re.findall(r\"Ironman|Hulk|captain|spiderman\",s)\n",
    "    if findmarvel:\n",
    "        print(findmarvel)\n",
    "    else:\n",
    "        print(\"all are ds comics\")\n",
    "        \n",
    "s=\"Ironman,wonderman,batman,robin,mr.Hulk,Ironman\"\n",
    "find_marvel(s)"
   ]
  },
  {
   "cell_type": "code",
   "execution_count": 39,
   "metadata": {},
   "outputs": [
    {
     "name": "stdout",
     "output_type": "stream",
     "text": [
      "ironman\n",
      "ironwoman\n",
      "noting is found\n"
     ]
    }
   ],
   "source": [
    "#optiopnal search\n",
    "def search(s):\n",
    "    pattern=re.search(r\"iron(wo)?man\",s)    ##this is for the--> ()? optional search see the output \n",
    "    if pattern:\n",
    "        print(pattern.group())\n",
    "    else:\n",
    "        print(\"noting is found\")\n",
    "\n",
    "s=\"ironman is a great hero\"\n",
    "search(s)\n",
    "s=\"ironwoman is also a great charcter \"  #see here it searches for the ironman and ironwoman also\n",
    "search(s)\n",
    "s=\"ironwowowoman it is not a character\"  ## see this part is not run if we want to run this part also so we have to use asterisk symbol\n",
    "search(s)                            ## use the asterisk symbol instead of ? symbol"
   ]
  },
  {
   "cell_type": "code",
   "execution_count": 34,
   "metadata": {},
   "outputs": [
    {
     "name": "stdout",
     "output_type": "stream",
     "text": [
      "ironman\n",
      "ironwoman\n",
      "ironwowowowowowoman\n"
     ]
    }
   ],
   "source": [
    "def search(s):\n",
    "    pattern=re.search(r\"iron(wo)*man\",s)    ##* asterisk symbol donate here that a wowowo... string can be repeated many times.\n",
    "    if pattern:\n",
    "        print(pattern.group())\n",
    "    else:\n",
    "        print(\"noting is found\")\n",
    "\n",
    "s=\"ironman is a great hero\"\n",
    "search(s)\n",
    "s=\"ironwoman is also a great charcter \"  #see here it searches for the ironman and ironwoman also\n",
    "search(s)\n",
    "s=\"ironwowowowowowoman it is not a character\"  ## see this part is not run if we want to run this part also so we have to use asterisk symbol\n",
    "search(s)                            ## use the asterisk symbol instead of ? symbol"
   ]
  },
  {
   "cell_type": "code",
   "execution_count": 46,
   "metadata": {},
   "outputs": [
    {
     "name": "stdout",
     "output_type": "stream",
     "text": [
      "abhay\n",
      "not found\n"
     ]
    }
   ],
   "source": [
    "## ^ symbol and $ symbol\n",
    "# ^ symbol denotes by which our string is starting\n",
    "def search(s):\n",
    "    pattern=re.search(r\"^abhay\",s)     #it tell us that our string is starting from thye abhay or not\n",
    "    if pattern:\n",
    "        print(pattern.group())\n",
    "    else:\n",
    "        print(\"not found\")\n",
    "\n",
    "s=\"abhay rana is my name\"\n",
    "search(s)\n",
    "s=\"hi my anme is abhay rana\"\n",
    "search(s)"
   ]
  },
  {
   "cell_type": "code",
   "execution_count": 54,
   "metadata": {},
   "outputs": [
    {
     "name": "stdout",
     "output_type": "stream",
     "text": [
      "0\n"
     ]
    }
   ],
   "source": [
    "def search(s):\n",
    "    pattern=re.search(r\"\\d$\",s)     #it tell us that our string is ending by integer u can change it accn to your need \n",
    "    if pattern:\n",
    "        print(pattern.group())\n",
    "    else:\n",
    "        print(\"not found\")\n",
    "        \n",
    "s=\"i have ruppess 50\"\n",
    "search(s)\n"
   ]
  },
  {
   "cell_type": "code",
   "execution_count": 76,
   "metadata": {},
   "outputs": [
    {
     "name": "stdout",
     "output_type": "stream",
     "text": [
      "['cat', 'bat', 'qat', 'hat', 'hat', 'kat', 'mat', '9at', ' at', 'tat']\n"
     ]
    }
   ],
   "source": [
    "# .\"xyz\" symbol it searches for the string which is ended by \"xyz\"\n",
    "def search(s):\n",
    "    pattern=re.findall(r\".at\",s)\n",
    "    if pattern:\n",
    "        print(pattern)\n",
    "    else:\n",
    "        print(\"not found\")\n",
    "s=\"at aacat bat qat hat that kat mat 999at atatat\"\n",
    "search(s)"
   ]
  },
  {
   "cell_type": "code",
   "execution_count": 16,
   "metadata": {},
   "outputs": [
    {
     "name": "stdout",
     "output_type": "stream",
     "text": [
      "['<this is the string which 222 we want to be print>']\n"
     ]
    }
   ],
   "source": [
    "def search(s):\n",
    "    pattern=re.findall(r\"<.*>\",s)\n",
    "    if pattern:\n",
    "        print(pattern)\n",
    "    else:\n",
    "        print(\"string is not found\")\n",
    "s=\"abhay rana is here <this is the string which 222 we want to be print>\"\n",
    "search(s)"
   ]
  },
  {
   "cell_type": "code",
   "execution_count": null,
   "metadata": {},
   "outputs": [],
   "source": []
  }
 ],
 "metadata": {
  "kernelspec": {
   "display_name": "Python 3",
   "language": "python",
   "name": "python3"
  },
  "language_info": {
   "codemirror_mode": {
    "name": "ipython",
    "version": 3
   },
   "file_extension": ".py",
   "mimetype": "text/x-python",
   "name": "python",
   "nbconvert_exporter": "python",
   "pygments_lexer": "ipython3",
   "version": "3.6.5"
  }
 },
 "nbformat": 4,
 "nbformat_minor": 2
}
