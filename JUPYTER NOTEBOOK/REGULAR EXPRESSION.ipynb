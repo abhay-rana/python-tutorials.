{
 "cells": [
  {
   "cell_type": "raw",
   "metadata": {},
   "source": [
    "IF U WANT TO BE NUMBER ONE SOFTWARE ENGINEER IN YOUR FILED YOU HAVE TO DO THESE THINGS:\n",
    "CTRL F , CTRL C ,CTRL V  ---- THIS IS THE MANTRA FOR EXCEL IN THIS FIELD"
   ]
  },
  {
   "cell_type": "markdown",
   "metadata": {},
   "source": [
    "# REGULAR EXPRESSION\n"
   ]
  },
  {
   "cell_type": "markdown",
   "metadata": {},
   "source": [
    "# it is used for the pattern matching....                                                            \n",
    "if we want to represent a group of strings according to particular pattern then we should fo for re             \n",
    "it can be email id ,mobile number, name , finding a template in source code\n"
   ]
  },
  {
   "cell_type": "raw",
   "metadata": {},
   "source": [
    "for example ---> u are filling a form in which u have to fill your details like name,email,mobile number,address\n",
    "suppose u fill your email address like abc#!$gmail.com --- it will give you a error and say enter again your email addresss bcoz it is not right..\n",
    "only pattern matters ... the pattern you have give so it check accn to that pattern"
   ]
  },
  {
   "cell_type": "raw",
   "metadata": {},
   "source": [
    "MAIN APPLICATIONS OF REGULAR EXPRESSION:\n",
    "1---> validations (like in a form )\n",
    "2---> compiler design\n",
    "3--->\n",
    "4---->"
   ]
  },
  {
   "cell_type": "code",
   "execution_count": null,
   "metadata": {},
   "outputs": [],
   "source": [
    "import re"
   ]
  },
  {
   "cell_type": "raw",
   "metadata": {},
   "source": [
    "shortcut character sets                                         REPRESENTS\n",
    "\n",
    "\\d                                                               number from 0 to 9\n",
    "\\D                                                               any character except from numbers\n",
    "\\w                                                               letter,numeric,underscore charcter\n",
    "\\W                                                                any character except letter,number,underscore character\n",
    "\\s                                                               any space,tab,new line special character\n",
    "\\S                                                                any character that is not a space,tab or a newline"
   ]
  },
  {
   "cell_type": "code",
   "execution_count": 11,
   "metadata": {},
   "outputs": [
    {
     "name": "stdout",
     "output_type": "stream",
     "text": [
      "9311520820\n"
     ]
    }
   ],
   "source": [
    "s=\"there is a mobile number in 9311520820 and 9953506099\"\n",
    "\n",
    "pattern=re.compile(r'\\d\\d\\d\\d\\d\\d\\d\\d\\d\\d')  #pattern is a variable here  #/d is denoting here numeric value 0 to 9\n",
    "mo=pattern.search(s)\n",
    "print(mo.group())"
   ]
  },
  {
   "cell_type": "code",
   "execution_count": 14,
   "metadata": {},
   "outputs": [
    {
     "name": "stdout",
     "output_type": "stream",
     "text": [
      "['9311520820', '9953506099']\n"
     ]
    }
   ],
   "source": [
    "mo=pattern.findall(s)   ## to print more than one \n",
    "print(mo)"
   ]
  },
  {
   "cell_type": "code",
   "execution_count": null,
   "metadata": {},
   "outputs": [
    {
     "name": "stdout",
     "output_type": "stream",
     "text": [
      " ajays@gmail.co.uk\n",
      " abhayrana286@gmail.com\n",
      " asd@gmail.co.in\n"
     ]
    }
   ],
   "source": [
    "# if the email in the form of .com ,.in ,.co.in ,co.uk\n",
    "def get_mail(s):\n",
    "    email_id=re.findall(r\"(\\D\\w+@\\w+)(.com|.co.in|.co.uk)\",s)\n",
    "    if email_id:\n",
    "        for e in range(len(email_id)):\n",
    "            print(\"\".join(email_id[e]))\n",
    "    else:\n",
    "        print(\"there is no email id in this\")\n",
    "s=\"sajitsingh@saa.coos and  ajays@gmail.co.uk  and  abhayrana286@gmail.com and asd@gmail.co.in\"    \n",
    "get_mail(s)"
   ]
  },
  {
   "cell_type": "code",
   "execution_count": null,
   "metadata": {},
   "outputs": [],
   "source": [
    "\n",
    "    "
   ]
  },
  {
   "cell_type": "code",
   "execution_count": null,
   "metadata": {},
   "outputs": [],
   "source": [
    "s=\"this is my personal number +919311520820 and my office number is +679311520420\"\n",
    "mo=re.findall(r\"(\\+\\d\\d)(\\d\\d\\d\\d\\d\\d\\d\\d\\d\\d)\",s)   #u can see here we have not to write re.compile bcoz it is not necessary\n",
    "print(mo)\n",
    "for e in mo:\n",
    "    print(e)\n",
    "print(\"mobile number is ---\",mo.group(2))"
   ]
  },
  {
   "cell_type": "code",
   "execution_count": null,
   "metadata": {
    "collapsed": true
   },
   "outputs": [
    {
     "name": "stdout",
     "output_type": "stream",
     "text": [
      " abhayrana286@gmail.com\n"
     ]
    }
   ],
   "source": [
    "#make  a regex function for which checking the email address enter by the user\n",
    "\n",
    "def get_mail(s):\n",
    "    email_id=re.search(r\"\\D\\w+@\\w+.\\w+\",s)\n",
    "    if email_id:\n",
    "        print(email_id.group())\n",
    "    else:\n",
    "        print(\"there is no email id in this\")\n",
    "s=\"hello there is my email address  abhayrana286@gmail.com \"    \n",
    "get_mail(s)"
   ]
  },
  {
   "cell_type": "code",
   "execution_count": null,
   "metadata": {},
   "outputs": [
    {
     "name": "stdout",
     "output_type": "stream",
     "text": [
      " ajays@gmail.co.uk\n",
      " abhayrana286@gmail.com\n",
      " asd@gmail.co.in\n"
     ]
    }
   ],
   "source": [
    "# if the email in the form of .com ,.in ,.co.in ,co.uk\n",
    "def get_mail(s):\n",
    "    email_id=re.findall(r\"(\\D\\w+@\\w+)(.com|.co.in|.co.uk)\",s)\n",
    "    if email_id:\n",
    "        for e in range(len(email_id)):\n",
    "            print(\"\".join(email_id[e]))\n",
    "    else:\n",
    "        print(\"there is no email id in this\")\n",
    "s=\"sajitsingh@saa.coos and  ajays@gmail.co.uk  and  abhayrana286@gmail.com and asd@gmail.co.in\"    \n",
    "get_mail(s)"
   ]
  },
  {
   "cell_type": "code",
   "execution_count": null,
   "metadata": {},
   "outputs": [],
   "source": [
    "\n",
    "    "
   ]
  },
  {
   "cell_type": "code",
   "execution_count": null,
   "metadata": {},
   "outputs": [],
   "source": []
  }
 ],
 "metadata": {
  "kernelspec": {
   "display_name": "Python 3",
   "language": "python",
   "name": "python3"
  },
  "language_info": {
   "codemirror_mode": {
    "name": "ipython",
    "version": 3
   },
   "file_extension": ".py",
   "mimetype": "text/x-python",
   "name": "python",
   "nbconvert_exporter": "python",
   "pygments_lexer": "ipython3",
   "version": "3.6.5"
  }
 },
 "nbformat": 4,
 "nbformat_minor": 2
}
